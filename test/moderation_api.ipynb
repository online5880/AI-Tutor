{
 "cells": [
  {
   "cell_type": "code",
   "execution_count": 1,
   "metadata": {},
   "outputs": [],
   "source": [
    "from openai import OpenAI\n",
    "from dotenv import load_dotenv"
   ]
  },
  {
   "cell_type": "code",
   "execution_count": 2,
   "metadata": {},
   "outputs": [],
   "source": [
    "client = OpenAI()\n",
    "# load_dotenv()"
   ]
  },
  {
   "cell_type": "code",
   "execution_count": 3,
   "metadata": {},
   "outputs": [],
   "source": [
    "response = client.moderations.create(input=\"Sample text goes here.\")\n",
    "\n",
    "output = response.results[0]"
   ]
  },
  {
   "cell_type": "code",
   "execution_count": 4,
   "metadata": {},
   "outputs": [
    {
     "data": {
      "text/plain": [
       "Moderation(categories=Categories(harassment=False, harassment_threatening=False, hate=False, hate_threatening=False, illicit=None, illicit_violent=None, self_harm=False, self_harm_instructions=False, self_harm_intent=False, sexual=False, sexual_minors=False, violence=False, violence_graphic=False, self-harm=False, sexual/minors=False, hate/threatening=False, violence/graphic=False, self-harm/intent=False, self-harm/instructions=False, harassment/threatening=False), category_applied_input_types=None, category_scores=CategoryScores(harassment=2.1957972421660088e-05, harassment_threatening=7.920744792500045e-06, hate=3.3822299883468077e-05, hate_threatening=4.28711395272785e-08, illicit=None, illicit_violent=None, self_harm=8.482592761538399e-07, self_harm_instructions=1.33808413238512e-07, self_harm_intent=1.859364004985764e-07, sexual=5.259300451143645e-05, sexual_minors=3.420051871216856e-05, violence=0.0007651916821487248, violence_graphic=3.136725354124792e-05, self-harm=8.482592761538399e-07, sexual/minors=3.420051871216856e-05, hate/threatening=4.28711395272785e-08, violence/graphic=3.136725354124792e-05, self-harm/intent=1.859364004985764e-07, self-harm/instructions=1.33808413238512e-07, harassment/threatening=7.920744792500045e-06), flagged=False)"
      ]
     },
     "execution_count": 4,
     "metadata": {},
     "output_type": "execute_result"
    }
   ],
   "source": [
    "output"
   ]
  },
  {
   "cell_type": "code",
   "execution_count": 5,
   "metadata": {},
   "outputs": [
    {
     "data": {
      "text/plain": [
       "{'categories': {'harassment': False,\n",
       "  'harassment_threatening': False,\n",
       "  'hate': False,\n",
       "  'hate_threatening': False,\n",
       "  'illicit': None,\n",
       "  'illicit_violent': None,\n",
       "  'self_harm': False,\n",
       "  'self_harm_instructions': False,\n",
       "  'self_harm_intent': False,\n",
       "  'sexual': False,\n",
       "  'sexual_minors': False,\n",
       "  'violence': False,\n",
       "  'violence_graphic': False,\n",
       "  'self-harm': False,\n",
       "  'sexual/minors': False,\n",
       "  'hate/threatening': False,\n",
       "  'violence/graphic': False,\n",
       "  'self-harm/intent': False,\n",
       "  'self-harm/instructions': False,\n",
       "  'harassment/threatening': False},\n",
       " 'category_applied_input_types': None,\n",
       " 'category_scores': {'harassment': 2.1957972421660088e-05,\n",
       "  'harassment_threatening': 7.920744792500045e-06,\n",
       "  'hate': 3.3822299883468077e-05,\n",
       "  'hate_threatening': 4.28711395272785e-08,\n",
       "  'illicit': None,\n",
       "  'illicit_violent': None,\n",
       "  'self_harm': 8.482592761538399e-07,\n",
       "  'self_harm_instructions': 1.33808413238512e-07,\n",
       "  'self_harm_intent': 1.859364004985764e-07,\n",
       "  'sexual': 5.259300451143645e-05,\n",
       "  'sexual_minors': 3.420051871216856e-05,\n",
       "  'violence': 0.0007651916821487248,\n",
       "  'violence_graphic': 3.136725354124792e-05,\n",
       "  'self-harm': 8.482592761538399e-07,\n",
       "  'sexual/minors': 3.420051871216856e-05,\n",
       "  'hate/threatening': 4.28711395272785e-08,\n",
       "  'violence/graphic': 3.136725354124792e-05,\n",
       "  'self-harm/intent': 1.859364004985764e-07,\n",
       "  'self-harm/instructions': 1.33808413238512e-07,\n",
       "  'harassment/threatening': 7.920744792500045e-06},\n",
       " 'flagged': False}"
      ]
     },
     "execution_count": 5,
     "metadata": {},
     "output_type": "execute_result"
    }
   ],
   "source": [
    "output.dict()"
   ]
  },
  {
   "cell_type": "code",
   "execution_count": 6,
   "metadata": {},
   "outputs": [
    {
     "data": {
      "text/plain": [
       "{'categories': {'harassment': False,\n",
       "  'harassment_threatening': False,\n",
       "  'hate': False,\n",
       "  'hate_threatening': False,\n",
       "  'illicit': None,\n",
       "  'illicit_violent': None,\n",
       "  'self_harm': False,\n",
       "  'self_harm_instructions': False,\n",
       "  'self_harm_intent': False,\n",
       "  'sexual': False,\n",
       "  'sexual_minors': False,\n",
       "  'violence': False,\n",
       "  'violence_graphic': False,\n",
       "  'self-harm': False,\n",
       "  'sexual/minors': False,\n",
       "  'hate/threatening': False,\n",
       "  'violence/graphic': False,\n",
       "  'self-harm/intent': False,\n",
       "  'self-harm/instructions': False,\n",
       "  'harassment/threatening': False},\n",
       " 'category_applied_input_types': None,\n",
       " 'category_scores': {'harassment': 2.1957972421660088e-05,\n",
       "  'harassment_threatening': 7.920744792500045e-06,\n",
       "  'hate': 3.3822299883468077e-05,\n",
       "  'hate_threatening': 4.28711395272785e-08,\n",
       "  'illicit': None,\n",
       "  'illicit_violent': None,\n",
       "  'self_harm': 8.482592761538399e-07,\n",
       "  'self_harm_instructions': 1.33808413238512e-07,\n",
       "  'self_harm_intent': 1.859364004985764e-07,\n",
       "  'sexual': 5.259300451143645e-05,\n",
       "  'sexual_minors': 3.420051871216856e-05,\n",
       "  'violence': 0.0007651916821487248,\n",
       "  'violence_graphic': 3.136725354124792e-05,\n",
       "  'self-harm': 8.482592761538399e-07,\n",
       "  'sexual/minors': 3.420051871216856e-05,\n",
       "  'hate/threatening': 4.28711395272785e-08,\n",
       "  'violence/graphic': 3.136725354124792e-05,\n",
       "  'self-harm/intent': 1.859364004985764e-07,\n",
       "  'self-harm/instructions': 1.33808413238512e-07,\n",
       "  'harassment/threatening': 7.920744792500045e-06},\n",
       " 'flagged': False}"
      ]
     },
     "execution_count": 6,
     "metadata": {},
     "output_type": "execute_result"
    }
   ],
   "source": [
    "output.model_dump()"
   ]
  },
  {
   "cell_type": "code",
   "execution_count": 9,
   "metadata": {},
   "outputs": [],
   "source": [
    "def analysis(text: str):\n",
    "    response = client.moderations.create(input=text)\n",
    "    output = response.results[0]\n",
    "    output_dict = output.model_dump()\n",
    "    flagged_list=[]\n",
    "    for k,v in output_dict['category_scores'].items():\n",
    "        if v:\n",
    "            score = output_dict['category_scores'][k]\n",
    "            flagged_list.append((k,score))\n",
    "    return flagged_list"
   ]
  },
  {
   "cell_type": "code",
   "execution_count": 13,
   "metadata": {},
   "outputs": [
    {
     "data": {
      "text/plain": [
       "[('harassment', 0.0037747768219560385),\n",
       " ('harassment_threatening', 4.4490549043985084e-05),\n",
       " ('hate', 0.00011715772416209802),\n",
       " ('hate_threatening', 3.014395133504877e-07),\n",
       " ('self_harm', 1.9796596006926848e-06),\n",
       " ('self_harm_instructions', 5.381172741181217e-06),\n",
       " ('self_harm_intent', 1.623233174541383e-06),\n",
       " ('sexual', 0.0006362026906572282),\n",
       " ('sexual_minors', 1.1886045285791624e-05),\n",
       " ('violence', 3.044718505407218e-05),\n",
       " ('violence_graphic', 4.105541302124038e-05),\n",
       " ('self-harm', 1.9796596006926848e-06),\n",
       " ('sexual/minors', 1.1886045285791624e-05),\n",
       " ('hate/threatening', 3.014395133504877e-07),\n",
       " ('violence/graphic', 4.105541302124038e-05),\n",
       " ('self-harm/intent', 1.623233174541383e-06),\n",
       " ('self-harm/instructions', 5.381172741181217e-06),\n",
       " ('harassment/threatening', 4.4490549043985084e-05)]"
      ]
     },
     "execution_count": 13,
     "metadata": {},
     "output_type": "execute_result"
    }
   ],
   "source": [
    "analysis(\"이건 쓰레기야\")"
   ]
  },
  {
   "cell_type": "code",
   "execution_count": 11,
   "metadata": {},
   "outputs": [
    {
     "data": {
      "text/plain": [
       "[('harassment', 0.7681158781051636),\n",
       " ('harassment_threatening', 7.12300050054182e-08),\n",
       " ('hate', 0.712505578994751),\n",
       " ('hate_threatening', 3.501083156720597e-08),\n",
       " ('self_harm', 1.1396743957448052e-06),\n",
       " ('self_harm_instructions', 7.185695372058376e-10),\n",
       " ('self_harm_intent', 3.453536692177295e-07),\n",
       " ('sexual', 5.492178752319887e-05),\n",
       " ('sexual_minors', 1.4900383860094735e-07),\n",
       " ('violence', 1.0282135917805135e-05),\n",
       " ('violence_graphic', 1.5753920479255612e-07),\n",
       " ('self-harm', 1.1396743957448052e-06),\n",
       " ('sexual/minors', 1.4900383860094735e-07),\n",
       " ('hate/threatening', 3.501083156720597e-08),\n",
       " ('violence/graphic', 1.5753920479255612e-07),\n",
       " ('self-harm/intent', 3.453536692177295e-07),\n",
       " ('self-harm/instructions', 7.185695372058376e-10),\n",
       " ('harassment/threatening', 7.12300050054182e-08)]"
      ]
     },
     "execution_count": 11,
     "metadata": {},
     "output_type": "execute_result"
    }
   ],
   "source": [
    "analysis(\"i hate asian\")"
   ]
  },
  {
   "cell_type": "code",
   "execution_count": 12,
   "metadata": {},
   "outputs": [
    {
     "data": {
      "text/plain": [
       "{'categories': {'harassment': False,\n",
       "  'harassment_threatening': False,\n",
       "  'hate': False,\n",
       "  'hate_threatening': False,\n",
       "  'illicit': None,\n",
       "  'illicit_violent': None,\n",
       "  'self_harm': False,\n",
       "  'self_harm_instructions': False,\n",
       "  'self_harm_intent': False,\n",
       "  'sexual': False,\n",
       "  'sexual_minors': False,\n",
       "  'violence': False,\n",
       "  'violence_graphic': False,\n",
       "  'self-harm': False,\n",
       "  'sexual/minors': False,\n",
       "  'hate/threatening': False,\n",
       "  'violence/graphic': False,\n",
       "  'self-harm/intent': False,\n",
       "  'self-harm/instructions': False,\n",
       "  'harassment/threatening': False},\n",
       " 'category_applied_input_types': None,\n",
       " 'category_scores': {'harassment': 2.1957972421660088e-05,\n",
       "  'harassment_threatening': 7.920744792500045e-06,\n",
       "  'hate': 3.3822299883468077e-05,\n",
       "  'hate_threatening': 4.28711395272785e-08,\n",
       "  'illicit': None,\n",
       "  'illicit_violent': None,\n",
       "  'self_harm': 8.482592761538399e-07,\n",
       "  'self_harm_instructions': 1.33808413238512e-07,\n",
       "  'self_harm_intent': 1.859364004985764e-07,\n",
       "  'sexual': 5.259300451143645e-05,\n",
       "  'sexual_minors': 3.420051871216856e-05,\n",
       "  'violence': 0.0007651916821487248,\n",
       "  'violence_graphic': 3.136725354124792e-05,\n",
       "  'self-harm': 8.482592761538399e-07,\n",
       "  'sexual/minors': 3.420051871216856e-05,\n",
       "  'hate/threatening': 4.28711395272785e-08,\n",
       "  'violence/graphic': 3.136725354124792e-05,\n",
       "  'self-harm/intent': 1.859364004985764e-07,\n",
       "  'self-harm/instructions': 1.33808413238512e-07,\n",
       "  'harassment/threatening': 7.920744792500045e-06},\n",
       " 'flagged': False}"
      ]
     },
     "execution_count": 12,
     "metadata": {},
     "output_type": "execute_result"
    }
   ],
   "source": [
    "output.model_dump()"
   ]
  },
  {
   "cell_type": "code",
   "execution_count": null,
   "metadata": {},
   "outputs": [],
   "source": []
  }
 ],
 "metadata": {
  "kernelspec": {
   "display_name": "ai-tutor",
   "language": "python",
   "name": "python3"
  },
  "language_info": {
   "codemirror_mode": {
    "name": "ipython",
    "version": 3
   },
   "file_extension": ".py",
   "mimetype": "text/x-python",
   "name": "python",
   "nbconvert_exporter": "python",
   "pygments_lexer": "ipython3",
   "version": "3.10.15"
  }
 },
 "nbformat": 4,
 "nbformat_minor": 2
}
